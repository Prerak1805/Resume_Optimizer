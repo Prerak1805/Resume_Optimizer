{
  "nbformat": 4,
  "nbformat_minor": 0,
  "metadata": {
    "colab": {
      "provenance": []
    },
    "kernelspec": {
      "name": "python3",
      "display_name": "Python 3"
    },
    "language_info": {
      "name": "python"
    }
  },
  "cells": [
    {
      "cell_type": "markdown",
      "source": [
        "# Project: Resume Optimizer\n",
        "Author: Prerak J. Dave\n",
        "\n",
        "##Import necessary files\n",
        "\n"
      ],
      "metadata": {
        "id": "RsO7609B6IlO"
      }
    },
    {
      "cell_type": "code",
      "source": [
        "!pip install weasyprint==52.5"
      ],
      "metadata": {
        "colab": {
          "base_uri": "https://localhost:8080/"
        },
        "collapsed": true,
        "id": "Rpa1AcGk57yi",
        "outputId": "9d3766cc-ee4b-4f97-f966-e31f0d586274"
      },
      "execution_count": null,
      "outputs": [
        {
          "output_type": "stream",
          "name": "stdout",
          "text": [
            "Collecting weasyprint==52.5\n",
            "  Downloading WeasyPrint-52.5-py3-none-any.whl.metadata (3.5 kB)\n",
            "Requirement already satisfied: setuptools>=39.2.0 in /usr/local/lib/python3.11/dist-packages (from weasyprint==52.5) (75.2.0)\n",
            "Requirement already satisfied: cffi>=0.6 in /usr/local/lib/python3.11/dist-packages (from weasyprint==52.5) (1.17.1)\n",
            "Requirement already satisfied: html5lib>=0.999999999 in /usr/local/lib/python3.11/dist-packages (from weasyprint==52.5) (1.1)\n",
            "Collecting cairocffi>=0.9.0 (from weasyprint==52.5)\n",
            "  Downloading cairocffi-1.7.1-py3-none-any.whl.metadata (3.3 kB)\n",
            "Requirement already satisfied: tinycss2>=1.0.0 in /usr/local/lib/python3.11/dist-packages (from weasyprint==52.5) (1.4.0)\n",
            "Collecting cssselect2>=0.1 (from weasyprint==52.5)\n",
            "  Downloading cssselect2-0.8.0-py3-none-any.whl.metadata (2.9 kB)\n",
            "Collecting CairoSVG>=2.4.0 (from weasyprint==52.5)\n",
            "  Downloading cairosvg-2.8.2-py3-none-any.whl.metadata (2.7 kB)\n",
            "Collecting Pyphen>=0.9.1 (from weasyprint==52.5)\n",
            "  Downloading pyphen-0.17.2-py3-none-any.whl.metadata (3.2 kB)\n",
            "Requirement already satisfied: Pillow>=4.0.0 in /usr/local/lib/python3.11/dist-packages (from weasyprint==52.5) (11.2.1)\n",
            "Requirement already satisfied: defusedxml in /usr/local/lib/python3.11/dist-packages (from CairoSVG>=2.4.0->weasyprint==52.5) (0.7.1)\n",
            "Requirement already satisfied: pycparser in /usr/local/lib/python3.11/dist-packages (from cffi>=0.6->weasyprint==52.5) (2.22)\n",
            "Requirement already satisfied: webencodings in /usr/local/lib/python3.11/dist-packages (from cssselect2>=0.1->weasyprint==52.5) (0.5.1)\n",
            "Requirement already satisfied: six>=1.9 in /usr/local/lib/python3.11/dist-packages (from html5lib>=0.999999999->weasyprint==52.5) (1.17.0)\n",
            "Downloading WeasyPrint-52.5-py3-none-any.whl (365 kB)\n",
            "\u001b[2K   \u001b[90m━━━━━━━━━━━━━━━━━━━━━━━━━━━━━━━━━━━━━━━━\u001b[0m \u001b[32m365.3/365.3 kB\u001b[0m \u001b[31m5.9 MB/s\u001b[0m eta \u001b[36m0:00:00\u001b[0m\n",
            "\u001b[?25hDownloading cairocffi-1.7.1-py3-none-any.whl (75 kB)\n",
            "\u001b[2K   \u001b[90m━━━━━━━━━━━━━━━━━━━━━━━━━━━━━━━━━━━━━━━━\u001b[0m \u001b[32m75.6/75.6 kB\u001b[0m \u001b[31m4.3 MB/s\u001b[0m eta \u001b[36m0:00:00\u001b[0m\n",
            "\u001b[?25hDownloading cairosvg-2.8.2-py3-none-any.whl (45 kB)\n",
            "\u001b[2K   \u001b[90m━━━━━━━━━━━━━━━━━━━━━━━━━━━━━━━━━━━━━━━━\u001b[0m \u001b[32m45.8/45.8 kB\u001b[0m \u001b[31m2.1 MB/s\u001b[0m eta \u001b[36m0:00:00\u001b[0m\n",
            "\u001b[?25hDownloading cssselect2-0.8.0-py3-none-any.whl (15 kB)\n",
            "Downloading pyphen-0.17.2-py3-none-any.whl (2.1 MB)\n",
            "\u001b[2K   \u001b[90m━━━━━━━━━━━━━━━━━━━━━━━━━━━━━━━━━━━━━━━━\u001b[0m \u001b[32m2.1/2.1 MB\u001b[0m \u001b[31m39.4 MB/s\u001b[0m eta \u001b[36m0:00:00\u001b[0m\n",
            "\u001b[?25hInstalling collected packages: Pyphen, cssselect2, cairocffi, CairoSVG, weasyprint\n",
            "Successfully installed CairoSVG-2.8.2 Pyphen-0.17.2 cairocffi-1.7.1 cssselect2-0.8.0 weasyprint-52.5\n"
          ]
        }
      ]
    },
    {
      "cell_type": "code",
      "source": [
        "from openai import OpenAI\n",
        "from IPython.display import display, Markdown\n",
        "import os\n",
        "from getpass import getpass\n",
        "\n",
        "from markdown import markdown\n",
        "from weasyprint import HTML"
      ],
      "metadata": {
        "id": "CSKiRf1JU9RB"
      },
      "execution_count": null,
      "outputs": []
    },
    {
      "cell_type": "markdown",
      "source": [
        "##Import resume and job description"
      ],
      "metadata": {
        "id": "npBkP0sO6jFn"
      }
    },
    {
      "cell_type": "code",
      "source": [
        "with open(\"/content/Resume_Prerak_J_Dave.md\",\"r\", encoding=\"utf-8\") as file:\n",
        "  resume_string = file.read()\n",
        "\n",
        "job_description = input(\"input job description: \")"
      ],
      "metadata": {
        "collapsed": true,
        "id": "RVEriV8G6yV7",
        "colab": {
          "base_uri": "https://localhost:8080/"
        },
        "outputId": "c7d0d2b5-c23a-434a-f0a5-b6fdc30348e0"
      },
      "execution_count": null,
      "outputs": [
        {
          "name": "stdout",
          "output_type": "stream",
          "text": [
            "input job description: Job Title: Software Engineer (Full Stack) 📍 Location: Bengaluru, India (Hybrid) 🕒 Employment Type: Full-time 💼 Experience: 0–2 years (Entry-Level) 🧾 Company Overview: CodeNest Solutions Pvt. Ltd. is a fast-growing tech startup specializing in enterprise-grade software products for fintech, logistics, and health tech domains. We build scalable platforms that power real-time operations for clients across India, Europe, and North America.  Our mission is to empower businesses through clean code, robust architecture, and intuitive user experiences. At CodeNest, we value curiosity, ownership, and engineering excellence.  🛠️ Job Summary: We are seeking a highly motivated and skilled Software Engineer to join our product engineering team. You will work closely with senior developers, designers, and QA engineers to design, build, test, and deploy full-stack web applications. This is a great opportunity for fresh graduates looking to grow in a high-impact environment with end-to-end ownership.  💻 Key Responsibilities: Design and develop scalable web applications using modern technologies like React, Node.js, and PostgreSQL  Collaborate with product managers and UX designers to implement intuitive front-end features  Write clean, testable, and maintainable code using industry best practices and design patterns  Integrate third-party APIs and develop RESTful services  Participate in code reviews, unit testing, and debugging across the software development lifecycle  Use Git for version control and contribute to agile sprint planning and standups  Optimize application performance, database queries, and deployment pipelines  Document technical specifications and system architecture as needed  🧠 Required Skills & Qualifications: Bachelor’s degree in Computer Science, Information Technology, or related discipline  Strong understanding of core programming concepts, OOP, and data structures  Proficiency in at least one backend language: JavaScript (Node.js), Python, or Java  Experience with HTML5, CSS3, and front-end frameworks like React.js or Angular  Familiarity with SQL/NoSQL databases (PostgreSQL, MongoDB, etc.)  Basic understanding of Git, REST APIs, and HTTP protocol  Good problem-solving skills and attention to detail  Excellent communication and teamwork abilities  🌟 Preferred (Good to Have): Hands-on experience with cloud platforms (AWS, GCP, or Azure)  Exposure to CI/CD tools (GitHub Actions, Jenkins, etc.)  Knowledge of containerization (Docker) or deployment strategies  Personal or academic projects with GitHub portfolio  Familiarity with Agile methodologies  🎯 What We Offer: Competitive salary and performance-based bonuses  Hybrid work flexibility (WFH + Office days)  Mentorship from senior engineers and structured onboarding  Learning allowance and conference sponsorships  Open culture with a flat hierarchy and fast decision cycles  Opportunity to work on live products used by 10,000+ daily users\n"
          ]
        }
      ]
    },
    {
      "cell_type": "markdown",
      "source": [
        "##Make prompt for AI"
      ],
      "metadata": {
        "id": "9CVKBXC68gpt"
      }
    },
    {
      "cell_type": "code",
      "source": [
        "make_prompt = lambda resume_string,job_description : f\"\"\"\n",
        "You are a professional Resume Optimization Assistant. Your role is to take a user's existing resume and optimize it to better match a provided job description.\n",
        "\n",
        "Your optimization should focus on the following **five core parameters**, each of which must be addressed in your output:\n",
        "\n",
        "---\n",
        "\n",
        "1. **Relevance Matching**:\n",
        "   - Align the resume’s content with the job description.\n",
        "   - Highlight experiences, skills, and projects that directly relate to the key requirements in the job posting.\n",
        "   - Remove or deprioritize irrelevant details that do not help the candidate’s case for this specific role.\n",
        "\n",
        "2. **Keyword and Language Optimization**:\n",
        "   - Use appropriate keywords and phrases from the job description.\n",
        "   - Ensure the resume uses action verbs, skill-specific terminology, and industry-accepted language.\n",
        "   - Help the resume pass through Applicant Tracking Systems (ATS) by integrating relevant keywords naturally.\n",
        "\n",
        "3. **Tone, Clarity, and Professionalism**:\n",
        "   - Improve grammar, sentence structure, and readability without making the resume sound artificial.\n",
        "   - Maintain a professional and confident tone.\n",
        "   - Avoid wordiness and overly casual or vague language.\n",
        "\n",
        "4. **Formatting and Structure Enhancement**:\n",
        "   - Suggest how to organize the resume more effectively (e.g., reordering sections, grouping similar experiences).\n",
        "   - Ensure the structure flows logically and is easy to scan.\n",
        "   - Avoid excessive use of first-person language or pronouns.\n",
        "\n",
        "5. **Honest Enhancement Without Fabrication**:\n",
        "   - Do not invent or exaggerate experiences or qualifications.\n",
        "   - You may rephrase or improve existing content but ensure everything remains factually consistent with the original resume.\n",
        "\n",
        "---\n",
        "\n",
        "**INPUT RESUME** :\n",
        "\n",
        "{resume_string}\n",
        "\n",
        "---\n",
        "\n",
        "**JOB DESCRIPTION**:\n",
        "\n",
        "{job_description}\n",
        "\n",
        "---\n",
        "\n",
        "Now, perform the following tasks:\n",
        "\n",
        "---\n",
        "\n",
        "### ✅ OPTIMIZED RESUME\n",
        "\n",
        "Rewrite the resume above so that it is significantly more aligned with the job description. Use a professional, structured, and keyword-optimized style. Format it in Markdown or clean text format. Emphasize experiences, skills, and strengths most relevant to the job posting.\n",
        "\n",
        "Ensure the optimized resume:\n",
        "- Reflects the 5 core parameters listed above\n",
        "- Does not include anything not present in the original resume\n",
        "- Is written in a clean, readable, and modern professional tone\n",
        "\n",
        "---\n",
        "\n",
        "### 💡 SUGGESTIONS SECTION\n",
        "\n",
        "At the end, add a **Suggestions Section** with 3–5 bullet points. These should be high-level improvements that the user can consider outside of the resume content — such as:\n",
        "\n",
        "- Courses, certifications, or tools they might consider learning\n",
        "- Projects they could highlight more\n",
        "- Formatting tools or style guidelines\n",
        "- Tips to quantify achievements (e.g., \"increased efficiency by 20%\")\n",
        "\n",
        "---\n",
        "\n",
        "Do not explain your reasoning in your response. Output only the optimized resume followed by the suggestions section. The ouput should be in a **clean Markdown format**.\n",
        "\"\"\"\n"
      ],
      "metadata": {
        "id": "4r_q0Tfq8qz6"
      },
      "execution_count": null,
      "outputs": []
    },
    {
      "cell_type": "code",
      "source": [
        "prompt = make_prompt(resume_string,job_description)"
      ],
      "metadata": {
        "id": "ouOSFsGf-4Xb"
      },
      "execution_count": null,
      "outputs": []
    },
    {
      "cell_type": "markdown",
      "source": [
        "## Use AI to improve the resume\n"
      ],
      "metadata": {
        "id": "NLNrHrsM-39Z"
      }
    },
    {
      "cell_type": "code",
      "source": [
        "os.environ[\"GITHUB_TOKEN\"]=getpass(\"Enter your GitHub token: \")"
      ],
      "metadata": {
        "id": "ta7uF7NDCDLD",
        "colab": {
          "base_uri": "https://localhost:8080/"
        },
        "outputId": "03d43ee4-fafc-434b-fab2-78dba3df1f2d"
      },
      "execution_count": null,
      "outputs": [
        {
          "name": "stdout",
          "output_type": "stream",
          "text": [
            "Enter your GitHub token: ··········\n"
          ]
        }
      ]
    },
    {
      "cell_type": "code",
      "source": [
        "token = os.environ[\"GITHUB_TOKEN\"]\n",
        "endpoint = \"https://models.github.ai/inference\"\n",
        "model_name = \"openai/gpt-4o-mini\"\n",
        "\n",
        "client = OpenAI(\n",
        "    base_url=endpoint,\n",
        "    api_key=token,\n",
        ")\n",
        "\n",
        "response = client.chat.completions.create(\n",
        "    messages=[\n",
        "        {\n",
        "            \"role\": \"system\",\n",
        "            \"content\": \"You are an expert resume writer.\",\n",
        "        },\n",
        "        {\n",
        "            \"role\": \"user\",\n",
        "            \"content\": prompt,\n",
        "        },\n",
        "    ],\n",
        "    model=model_name,\n",
        "    temperature=0.7,\n",
        ")\n",
        "\n",
        "response_string = response.choices[0].message.content"
      ],
      "metadata": {
        "collapsed": true,
        "id": "_UyTsHG9_Uhf"
      },
      "execution_count": null,
      "outputs": []
    },
    {
      "cell_type": "code",
      "source": [
        "print(response_string)"
      ],
      "metadata": {
        "colab": {
          "base_uri": "https://localhost:8080/"
        },
        "id": "l-N_MEr-ZuVt",
        "outputId": "b07f6e0b-3366-45a0-fabf-f882d016f147"
      },
      "execution_count": null,
      "outputs": [
        {
          "output_type": "stream",
          "name": "stdout",
          "text": [
            "# PRERAK J. DAVE  \n",
            "**B.Tech, Information and Communication Technology**  \n",
            "📧 prerak.dave05@gmail.com | 📞 6353470043\n",
            "\n",
            "---\n",
            "\n",
            "## EXPERIENCE\n",
            "\n",
            "### Pochabhai Foundation  \n",
            "**December 2023**  \n",
            "- Collaborated with team members to assess local challenges in Golana village, focusing on the role of technology in rural development.  \n",
            "- Conducted family surveys to gather data on legal documentation and awareness of government schemes, enhancing problem-solving and analytical skills.\n",
            "\n",
            "---\n",
            "\n",
            "## PROJECTS\n",
            "\n",
            "### NGO Management System  \n",
            "**January 2024 - April 2024**  \n",
            "- Developed a web-based application to help NGOs manage data related to multiple centers, employees, volunteers, supplies, donations, and ongoing projects, utilizing technologies such as HTML, CSS, SQL, and JavaScript.  \n",
            "- **Team Size:** 4  \n",
            "- **Guide:** Prof. PM Jat  \n",
            "\n",
            "### Roamio – A Travel Partner  \n",
            "**January 2025 - April 2025**  \n",
            "- Designed and implemented a user-friendly travel application using React to create personalized itineraries and engaging user experiences through gamification.  \n",
            "- Integrated third-party APIs to enhance functionality and user engagement.  \n",
            "- **Team Size:** 3  \n",
            "- **Guide:** Prof. Anupam Rana  \n",
            "\n",
            "### LDPC  \n",
            "**March 2021 - April 2021**  \n",
            "- Implemented LDPC encoding/decoding algorithms using MATLAB, demonstrating a strong understanding of algorithms and data structures.  \n",
            "- **Guide:** Dr. Yash Vasavada  \n",
            "\n",
            "---\n",
            "\n",
            "## EDUCATION\n",
            "\n",
            "**Dhirubhai Ambani Institute of Information and Communication Technology (DA-IICT)**  \n",
            "*CPI: 6.15*  \n",
            "📍 Gandhinagar, Gujarat  \n",
            "📅 October 2022 – Present  \n",
            "\n",
            "**Class 12th – Shiv Ashish School (CBSE)**  \n",
            "*Percentage: 81.8%*  \n",
            "📍 Ahmedabad, Gujarat  \n",
            "📅 2021 – 2022  \n",
            "\n",
            "**Class 10th – Zydus School for Excellence-Godhavi (CBSE)**  \n",
            "*Percentage: 92.2%*  \n",
            "📍 Ahmedabad, Gujarat  \n",
            "📅 2019 – 2020  \n",
            "\n",
            "---\n",
            "\n",
            "## SKILLS\n",
            "\n",
            "- **Programming Languages:** C, C++, SQL, JavaScript (Node.js)  \n",
            "- **Web Technologies:** HTML5, CSS3, React.js  \n",
            "- **Tools & Technologies:** VS Code, MATLAB, pgAdmin, LaTeX, Figma, Git  \n",
            "- **Core Competencies:** Data Structures, Object-Oriented Programming, Database Management, Software Engineering, UX Design  \n",
            "\n",
            "---\n",
            "\n",
            "## POSITIONS OF RESPONSIBILITY\n",
            "\n",
            "**Music Club – Core Member**  \n",
            "📅 November 2023 – Present  \n",
            "- Managed event organization, budget estimation, and inventory for the Music Club, showcasing leadership and teamwork capabilities.\n",
            "\n",
            "---\n",
            "\n",
            "## INTERESTS\n",
            "\n",
            "- Music  \n",
            "- Event organization  \n",
            "- Literature and Writing  \n",
            "\n",
            "---\n",
            "\n",
            "## ACHIEVEMENTS\n",
            "\n",
            "- 🥇 1st prize in *Rolling Shutters* (short film making competition), 2023  \n",
            "- 🥉 3rd prize in *Silence Of The Amps* (BITS Goa)  \n",
            "- 🥈 State level Silver Medal in Karate  \n",
            "\n",
            "---\n",
            "\n",
            "## SUGGESTIONS SECTION\n",
            "\n",
            "- Consider learning JavaScript frameworks like Angular or more advanced React features to enhance your web development skills.\n",
            "- Explore backend technologies like Node.js in-depth, as they are crucial for full-stack development roles.\n",
            "- Build a GitHub portfolio showcasing personal or academic projects that demonstrate your coding skills and understanding of software development processes.\n",
            "- Quantify your project outcomes, e.g., \"Improved user engagement by 30% through enhanced UX design in Roamio.\"\n",
            "- Participate in coding competitions or hackathons to gain practical experience and increase visibility in the tech community.\n"
          ]
        }
      ]
    },
    {
      "cell_type": "markdown",
      "source": [
        "##Display results\n"
      ],
      "metadata": {
        "id": "0Pi2Vk9fZJDI"
      }
    },
    {
      "cell_type": "code",
      "source": [
        "response_list = response_string.split(\"## SUGGESTIONS SECTION \")"
      ],
      "metadata": {
        "id": "Ur8pno2-ZNq0"
      },
      "execution_count": null,
      "outputs": []
    },
    {
      "cell_type": "code",
      "source": [
        "display(Markdown(response_list[0]))"
      ],
      "metadata": {
        "colab": {
          "base_uri": "https://localhost:8080/",
          "height": 1000
        },
        "id": "zPN75DneaEcR",
        "outputId": "92c7a844-f82c-49b3-ec55-9f03aa076378"
      },
      "execution_count": null,
      "outputs": [
        {
          "output_type": "display_data",
          "data": {
            "text/plain": [
              "<IPython.core.display.Markdown object>"
            ],
            "text/markdown": "# PRERAK J. DAVE  \n**B.Tech, Information and Communication Technology**  \n📧 prerak.dave05@gmail.com | 📞 6353470043\n\n---\n\n## EXPERIENCE\n\n### Pochabhai Foundation  \n**December 2023**  \n- Collaborated with team members to assess local challenges in Golana village, focusing on the role of technology in rural development.  \n- Conducted family surveys to gather data on legal documentation and awareness of government schemes, enhancing problem-solving and analytical skills.\n\n---\n\n## PROJECTS\n\n### NGO Management System  \n**January 2024 - April 2024**  \n- Developed a web-based application to help NGOs manage data related to multiple centers, employees, volunteers, supplies, donations, and ongoing projects, utilizing technologies such as HTML, CSS, SQL, and JavaScript.  \n- **Team Size:** 4  \n- **Guide:** Prof. PM Jat  \n\n### Roamio – A Travel Partner  \n**January 2025 - April 2025**  \n- Designed and implemented a user-friendly travel application using React to create personalized itineraries and engaging user experiences through gamification.  \n- Integrated third-party APIs to enhance functionality and user engagement.  \n- **Team Size:** 3  \n- **Guide:** Prof. Anupam Rana  \n\n### LDPC  \n**March 2021 - April 2021**  \n- Implemented LDPC encoding/decoding algorithms using MATLAB, demonstrating a strong understanding of algorithms and data structures.  \n- **Guide:** Dr. Yash Vasavada  \n\n---\n\n## EDUCATION\n\n**Dhirubhai Ambani Institute of Information and Communication Technology (DA-IICT)**  \n*CPI: 6.15*  \n📍 Gandhinagar, Gujarat  \n📅 October 2022 – Present  \n\n**Class 12th – Shiv Ashish School (CBSE)**  \n*Percentage: 81.8%*  \n📍 Ahmedabad, Gujarat  \n📅 2021 – 2022  \n\n**Class 10th – Zydus School for Excellence-Godhavi (CBSE)**  \n*Percentage: 92.2%*  \n📍 Ahmedabad, Gujarat  \n📅 2019 – 2020  \n\n---\n\n## SKILLS\n\n- **Programming Languages:** C, C++, SQL, JavaScript (Node.js)  \n- **Web Technologies:** HTML5, CSS3, React.js  \n- **Tools & Technologies:** VS Code, MATLAB, pgAdmin, LaTeX, Figma, Git  \n- **Core Competencies:** Data Structures, Object-Oriented Programming, Database Management, Software Engineering, UX Design  \n\n---\n\n## POSITIONS OF RESPONSIBILITY\n\n**Music Club – Core Member**  \n📅 November 2023 – Present  \n- Managed event organization, budget estimation, and inventory for the Music Club, showcasing leadership and teamwork capabilities.\n\n---\n\n## INTERESTS\n\n- Music  \n- Event organization  \n- Literature and Writing  \n\n---\n\n## ACHIEVEMENTS\n\n- 🥇 1st prize in *Rolling Shutters* (short film making competition), 2023  \n- 🥉 3rd prize in *Silence Of The Amps* (BITS Goa)  \n- 🥈 State level Silver Medal in Karate  \n\n---\n\n## SUGGESTIONS SECTION\n\n- Consider learning JavaScript frameworks like Angular or more advanced React features to enhance your web development skills.\n- Explore backend technologies like Node.js in-depth, as they are crucial for full-stack development roles.\n- Build a GitHub portfolio showcasing personal or academic projects that demonstrate your coding skills and understanding of software development processes.\n- Quantify your project outcomes, e.g., \"Improved user engagement by 30% through enhanced UX design in Roamio.\"\n- Participate in coding competitions or hackathons to gain practical experience and increase visibility in the tech community."
          },
          "metadata": {}
        }
      ]
    },
    {
      "cell_type": "code",
      "source": [
        "resume_file = \"/content/optimized_resume.pdf\"\n",
        "\n",
        "html_content = markdown(response_list[0])\n",
        "HTML(string=html_content).write_pdf(resume_file, stylesheets=['/content/it_resume_style.css'])"
      ],
      "metadata": {
        "colab": {
          "base_uri": "https://localhost:8080/"
        },
        "id": "LHOVBHyIb7k4",
        "outputId": "e31b68c4-7db6-4dbe-fbec-5e66b59e6d28"
      },
      "execution_count": null,
      "outputs": [
        {
          "output_type": "stream",
          "name": "stderr",
          "text": [
            "WARNING:weasyprint:Ignored `gap: 10px` at 70:5, unknown property.\n"
          ]
        }
      ]
    }
  ]
}